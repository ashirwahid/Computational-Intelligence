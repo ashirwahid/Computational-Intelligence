{
 "cells": [
  {
   "cell_type": "markdown",
   "metadata": {
    "colab_type": "text",
    "id": "9WjsBPzEFKMW"
   },
   "source": [
    "# Convolutional Neural Network in Keras\n",
    "\n",
    "Computational Intelligence  - STRATEGOS  UNIGE\n",
    "\n",
    "A. Cabri & F. Masulli\n"
   ]
  },
  {
   "cell_type": "markdown",
   "metadata": {
    "colab_type": "text",
    "id": "0SyO72xOFKMX"
   },
   "source": [
    "## Pre-requisites:\n",
    "\n",
    "It is possible to run this notebook locally on a jupyter installation, but we recommend to run this this notebook in the cloud on Google Colab <a target=\"_blank\" href=\"http://colab.research.google.com/\"><img src=\"https://deeplearning.mit.edu/files/images/github/icon_google_colab.png\" style=\"padding-bottom:5px;\" height=\"18\"/></a> because it is possible to test the execution both on the standard CPU kernel and on a GPU powered one.\n",
    "\n",
    "You can switch between them by selecting the following menuitems: Edit $\\rightarrow$ Notebook settings $\\rightarrow$ Hardware accelerator\n",
    "\n",
    "Local execution requires to [install TensorFlow](https://www.tensorflow.org/install/), which is not always an easy task due to different version of dependent libraries, and [tf.keras](https://www.tensorflow.org/guide/keras) which\n",
    "is TensorFlow's high-level API for building and training deep learning models. \n",
    "\n",
    "You may find detailed documentation at Keras Guide (https://keras.io/)  or   (https://www.tensorflow.org/guide/keras).\n",
    "\n",
    "## Required imports:"
   ]
  },
  {
   "cell_type": "code",
   "execution_count": 1,
   "metadata": {
    "colab": {
     "base_uri": "https://localhost:8080/",
     "height": 35
    },
    "colab_type": "code",
    "id": "gHoRYxKGFKMe",
    "outputId": "6e71f446-678c-4173-9726-075a6e0be292"
   },
   "outputs": [
    {
     "name": "stdout",
     "output_type": "stream",
     "text": [
      "2.4.1\n"
     ]
    }
   ],
   "source": [
    "# TensorFlow and tf.keras\n",
    "import tensorflow as tf\n",
    "from tensorflow import keras\n",
    "from tensorflow.keras.layers import Conv2D, MaxPooling2D, Dropout, Flatten, Dense\n",
    "\n",
    "# Commonly used modules\n",
    "import numpy as np\n",
    "import os\n",
    "import sys\n",
    "import time\n",
    "\n",
    "# Images, plots, display, and visualization\n",
    "import matplotlib.pyplot as plt\n",
    "import pandas as pd\n",
    "\n",
    "print(tf.__version__)"
   ]
  },
  {
   "cell_type": "markdown",
   "metadata": {
    "colab_type": "text",
    "id": "YRGrsd9uFKOb"
   },
   "source": [
    "## Download MNIST dataset \n",
    "\n",
    "The MNIST dataset contains 70,000 grayscale images of handwritten digits at a resolution of 28 by 28 pixels. The task is to take one of these images as input and predict the most likely digit contained in the image (along with a relative confidence in this prediction):\n",
    "\n",
    "<img src=\"https://i.imgur.com/ITrm9x4.png\" width=\"500px\">\n",
    "\n",
    "The images are 28x28 NumPy arrays, with pixel values ranging between 0 and 255. \n",
    "\n",
    "The *labels* are an array of integers, ranging from 0 to 9.\n",
    "\n",
    "The dataset can be downloaded from this repository:"
   ]
  },
  {
   "cell_type": "code",
   "execution_count": 2,
   "metadata": {
    "colab": {},
    "colab_type": "code",
    "id": "34UQqKpyFKOk"
   },
   "outputs": [
    {
     "name": "stdout",
     "output_type": "stream",
     "text": [
      "Downloading data from https://storage.googleapis.com/tensorflow/tf-keras-datasets/mnist.npz\n",
      "11493376/11490434 [==============================] - 0s 0us/step\n"
     ]
    }
   ],
   "source": [
    "(train_images, train_labels), (test_images, test_labels) = keras.datasets.mnist.load_data()\n",
    "\n",
    "# reshape images to specify that it's a single channel\n",
    "train_images = train_images.reshape(train_images.shape[0], 28, 28, 1)\n",
    "test_images = test_images.reshape(test_images.shape[0], 28, 28, 1)"
   ]
  },
  {
   "cell_type": "markdown",
   "metadata": {
    "colab_type": "text",
    "id": "CHsgfXYLFKOs"
   },
   "source": [
    "Let's convert the image pixels into a range of 0 to 1 before feeding to the neural network model by dividing the values of both the *training set* and the *testing set* by 255."
   ]
  },
  {
   "cell_type": "code",
   "execution_count": 3,
   "metadata": {
    "colab": {},
    "colab_type": "code",
    "id": "NLeTnDZWFKOv"
   },
   "outputs": [],
   "source": [
    "def preprocess_images(imgs): # should work for both a single image and multiple images\n",
    "    sample_img = imgs if len(imgs.shape) == 2 else imgs[0]\n",
    "    assert sample_img.shape in [(28, 28, 1), (28, 28)], sample_img.shape # make sure images are 28x28 and single-channel (grayscale)\n",
    "    return imgs / 255.0\n",
    "\n",
    "train_images = preprocess_images(train_images)\n",
    "test_images = preprocess_images(test_images)"
   ]
  },
  {
   "cell_type": "markdown",
   "metadata": {
    "colab_type": "text",
    "id": "ftNdQX_ZFKPD"
   },
   "source": [
    "Display the first *count* images from the *training set* and display the class name below each image. "
   ]
  },
  {
   "cell_type": "code",
   "execution_count": 4,
   "metadata": {
    "colab": {
     "base_uri": "https://localhost:8080/",
     "height": 95
    },
    "colab_type": "code",
    "id": "WvQDj48KFKPH",
    "outputId": "f3638d5a-8a7b-4818-d2fc-25235d308281"
   },
   "outputs": [
    {
     "data": {
      "image/png": "[encoded data removed]",
      "text/plain": [
       "<Figure size 1152x72 with 15 Axes>"
      ]
     },
     "metadata": {},
     "output_type": "display_data"
    }
   ],
   "source": [
    "count = 15\n",
    "plt.figure(figsize=(16,1))\n",
    "for i in range(count):\n",
    "    plt.subplot(1,count,i+1)\n",
    "    plt.xticks([])\n",
    "    plt.yticks([])\n",
    "    plt.grid(False)\n",
    "    plt.imshow(train_images[i].reshape(28, 28), cmap=plt.cm.binary)\n",
    "    plt.xlabel(train_labels[i])"
   ]
  },
  {
   "cell_type": "markdown",
   "metadata": {
    "colab_type": "text",
    "id": "EqYEqUJxFKPS"
   },
   "source": [
    "### Build the model\n",
    "\n",
    "Building the neural network requires configuring the layers of the model, then compiling the model. Here follows one possible configuration that produces good results on the MNIST dataset:"
   ]
  },
  {
   "cell_type": "code",
   "execution_count": 5,
   "metadata": {
    "colab": {
     "base_uri": "https://localhost:8080/",
     "height": 467
    },
    "colab_type": "code",
    "id": "oWOa5LOVFKPT",
    "outputId": "5de1a19c-89c2-490a-9cee-faf825462293"
   },
   "outputs": [
    {
     "name": "stdout",
     "output_type": "stream",
     "text": [
      "Model: \"sequential\"\n",
      "_________________________________________________________________\n",
      "Layer (type)                 Output Shape              Param #   \n",
      "=================================================================\n",
      "conv2d (Conv2D)              (None, 26, 26, 32)        320       \n",
      "_________________________________________________________________\n",
      "conv2d_1 (Conv2D)            (None, 24, 24, 64)        18496     \n",
      "_________________________________________________________________\n",
      "max_pooling2d (MaxPooling2D) (None, 12, 12, 64)        0         \n",
      "_________________________________________________________________\n",
      "dropout (Dropout)            (None, 12, 12, 64)        0         \n",
      "_________________________________________________________________\n",
      "flatten (Flatten)            (None, 9216)              0         \n",
      "_________________________________________________________________\n",
      "dense (Dense)                (None, 128)               1179776   \n",
      "_________________________________________________________________\n",
      "dropout_1 (Dropout)          (None, 128)               0         \n",
      "_________________________________________________________________\n",
      "dense_1 (Dense)              (None, 10)                1290      \n",
      "=================================================================\n",
      "Total params: 1,199,882\n",
      "Trainable params: 1,199,882\n",
      "Non-trainable params: 0\n",
      "_________________________________________________________________\n",
      "None\n"
     ]
    }
   ],
   "source": [
    "model = keras.Sequential()\n",
    "# 32 convolution filters used each of size 3x3\n",
    "model.add(Conv2D(32, kernel_size=(3, 3), activation='relu', input_shape=(28, 28, 1)))\n",
    "# 64 convolution filters used each of size 3x3\n",
    "model.add(Conv2D(64, (3, 3), activation='relu'))\n",
    "# choose the best features via pooling\n",
    "model.add(MaxPooling2D(pool_size=(2, 2)))\n",
    "# randomly turn neurons on and off to improve convergence\n",
    "model.add(Dropout(0.25))\n",
    "# flatten since too many dimensions, we only want a classification output\n",
    "model.add(Flatten())\n",
    "# fully connected to get all relevant data\n",
    "model.add(Dense(128, activation='relu'))\n",
    "# one more dropout\n",
    "model.add(Dropout(0.5))\n",
    "# output a softmax to squash the matrix into output probabilities\n",
    "model.add(Dense(10, activation='softmax'))\n",
    "print(model.summary())"
   ]
  },
  {
   "cell_type": "markdown",
   "metadata": {
    "colab_type": "text",
    "id": "fUHo8mPbFKPb"
   },
   "source": [
    "Before the model is ready for training, it needs a few more settings. These are added during the model's *compile* step:\n",
    "\n",
    "* *Loss function* - measures how accurate the model is during training, we want to minimize this with the optimizer.\n",
    "* *Optimizer* - how the model is updated based on the data it sees and its loss function.\n",
    "* *Metrics* - used to monitor the training and testing steps. \"accuracy\" is the fraction of images that are correctly classified."
   ]
  },
  {
   "cell_type": "code",
   "execution_count": 6,
   "metadata": {
    "colab": {},
    "colab_type": "code",
    "id": "gPDJn26KFKPe"
   },
   "outputs": [],
   "source": [
    "model.compile(optimizer=tf.optimizers.SGD(), loss='sparse_categorical_crossentropy', metrics=['accuracy'])"
   ]
  },
  {
   "cell_type": "markdown",
   "metadata": {
    "colab_type": "text",
    "id": "CzydQVk1FKPm"
   },
   "source": [
    "### Train the model\n",
    "\n",
    "Being in a context of *supervised learning*, training the neural network model requires to call the `model.fit` method on the training data `train_images` and the relevant ground truth `train_labels`.\n",
    "\n",
    "To make predictions we use a test set `test_images` and check the predictions against the `test_labels` array. "
   ]
  },
  {
   "cell_type": "code",
   "execution_count": 7,
   "metadata": {
    "colab": {
     "base_uri": "https://localhost:8080/",
     "height": 611
    },
    "colab_type": "code",
    "id": "UuerNpGCFKPn",
    "outputId": "4800b0de-3bc9-4c6d-c8ad-b1859d7d8c5a"
   },
   "outputs": [
    {
     "name": "stdout",
     "output_type": "stream",
     "text": [
      "(60000, 28, 28, 1)\n",
      "Epoch 1/15\n",
      "1875/1875 [==============================] - 72s 38ms/step - loss: 0.9299 - accuracy: 0.7026\n",
      "Epoch 2/15\n",
      "1875/1875 [==============================] - 95s 51ms/step - loss: 0.3134 - accuracy: 0.9069\n",
      "Epoch 3/15\n",
      "1875/1875 [==============================] - 94s 50ms/step - loss: 0.2319 - accuracy: 0.9318\n",
      "Epoch 4/15\n",
      "1875/1875 [==============================] - 101s 54ms/step - loss: 0.1803 - accuracy: 0.9468\n",
      "Epoch 5/15\n",
      "1875/1875 [==============================] - 81s 43ms/step - loss: 0.1442 - accuracy: 0.9576\n",
      "Epoch 6/15\n",
      "1875/1875 [==============================] - 89s 48ms/step - loss: 0.1244 - accuracy: 0.9633\n",
      "Epoch 7/15\n",
      "1875/1875 [==============================] - 102s 54ms/step - loss: 0.1109 - accuracy: 0.9661\n",
      "Epoch 8/15\n",
      "1875/1875 [==============================] - 93s 50ms/step - loss: 0.0974 - accuracy: 0.9702\n",
      "Epoch 9/15\n",
      "1875/1875 [==============================] - 87s 46ms/step - loss: 0.0912 - accuracy: 0.9731\n",
      "Epoch 10/15\n",
      "1875/1875 [==============================] - 85s 46ms/step - loss: 0.0844 - accuracy: 0.9748\n",
      "Epoch 11/15\n",
      "1875/1875 [==============================] - 81s 43ms/step - loss: 0.0789 - accuracy: 0.9768\n",
      "Epoch 12/15\n",
      "1875/1875 [==============================] - 77s 41ms/step - loss: 0.0748 - accuracy: 0.9769\n",
      "Epoch 13/15\n",
      "1875/1875 [==============================] - 82s 44ms/step - loss: 0.0693 - accuracy: 0.9793\n",
      "Epoch 14/15\n",
      "1875/1875 [==============================] - 84s 45ms/step - loss: 0.0677 - accuracy: 0.9798\n",
      "Epoch 15/15\n",
      "1875/1875 [==============================] - 84s 45ms/step - loss: 0.0627 - accuracy: 0.9800\n",
      "\n",
      "Total  training time (seconds): 1308.4665217399597\n"
     ]
    }
   ],
   "source": [
    "print(train_images.shape)\n",
    "t_before = time.time() \n",
    "model.fit(train_images, train_labels, epochs=15)\n",
    "t_after = time.time()\n",
    "t_training = t_after - t_before\n",
    "print()\n",
    "print(\"Total  training time (seconds):\", t_training)"
   ]
  },
  {
   "cell_type": "markdown",
   "metadata": {
    "colab_type": "text",
    "id": "lMJhdLVsFKP4"
   },
   "source": [
    "### Evaluate generalization accuracy\n",
    "\n",
    "Model performance is assessed on the test dataset:"
   ]
  },
  {
   "cell_type": "code",
   "execution_count": 8,
   "metadata": {
    "colab": {
     "base_uri": "https://localhost:8080/",
     "height": 71
    },
    "colab_type": "code",
    "id": "AaC6oI7iFKP5",
    "outputId": "0b8f9d98-be98-40d2-cb18-a57bb7a54869"
   },
   "outputs": [
    {
     "name": "stdout",
     "output_type": "stream",
     "text": [
      "(10000, 28, 28, 1)\n",
      "313/313 [==============================] - 4s 13ms/step - loss: 0.0349 - accuracy: 0.9880\n"
     ]
    },
    {
     "data": {
      "text/plain": [
       "'Test accuracy: 98.80 %'"
      ]
     },
     "execution_count": 8,
     "metadata": {},
     "output_type": "execute_result"
    }
   ],
   "source": [
    "print(test_images.shape)\n",
    "test_loss, test_acc = model.evaluate(test_images, test_labels)\n",
    "\n",
    "'Test accuracy: {:.2f} %'.format(test_acc*100)"
   ]
  },
  {
   "cell_type": "markdown",
   "metadata": {
    "colab_type": "text",
    "id": "VnEM-SL5FKQA"
   },
   "source": [
    "Most often, the accuracy on the test dataset is a little less than the accuracy on the training dataset. This gap between training accuracy and test accuracy is an example of *overfitting*. In our case, the accuracy is better, due to successful regularization accomplished with the Dropout layers."
   ]
  }
 ],
 "metadata": {
  "accelerator": "GPU",
  "colab": {
   "collapsed_sections": [],
   "name": "DEMO_CI_8_CNN_in_Keras.ipynb",
   "provenance": [],
   "toc_visible": true
  },
  "kernelspec": {
   "display_name": "Python 3",
   "language": "python",
   "name": "python3"
  },
  "language_info": {
   "codemirror_mode": {
    "name": "ipython",
    "version": 3
   },
   "file_extension": ".py",
   "mimetype": "text/x-python",
   "name": "python",
   "nbconvert_exporter": "python",
   "pygments_lexer": "ipython3",
   "version": "3.8.10"
  }
 },
 "nbformat": 4,
 "nbformat_minor": 1
}
