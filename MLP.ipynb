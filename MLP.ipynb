{
  "cells": [
    {
      "cell_type": "markdown",
      "metadata": {
        "id": "9WjsBPzEFKMW"
      },
      "source": [
        "# HW CI-7 CNN Fashion\n",
        "\n",
        "\n",
        "Computational Intelligence  - STRATEGOS  UNIGE\n",
        "\n",
        "Names (s) Muhammad Ashir Wahid and Ambreen Aslam\n",
        "\n",
        "Date 12/5/2022\n",
        "\n",
        "\n"
      ]
    },
    {
      "cell_type": "markdown",
      "metadata": {
        "id": "lk7ayopvh6vr"
      },
      "source": [
        "## Assignment: Implement a CNN in Keras\n",
        "\n",
        "We will implement a Convolutional Neural Network in Keras\n",
        "\n",
        "Then we will apply our CNN to Fashion MNIST dataset \n",
        "\n",
        "\n",
        "### CNN Fashion Mnist - Challenge CI Strategos 2021-22\n",
        "After submitted your Homework on the Aulaweb of the CI course\n",
        "your best result to the [shared table](https://docs.google.com/spreadsheets/d/1RwZDt9mmNH-eMusX6Yqukw1-v_oHSWSQDVlKqF-e97w/edit?usp=sharing) before the due date of the Homework\n",
        "\n",
        "The winner(s) of the challenge will receive .5 extra-mark"
      ]
    },
    {
      "cell_type": "markdown",
      "metadata": {
        "id": "0SyO72xOFKMX"
      },
      "source": [
        "## Pre-requisites:\n",
        "\n",
        "It is possible to run this notebook locally on a jupyter installation, but we recommend to run this this notebook in the cloud on [Google Colab](https://colab.research.google.com/?utm_source=scs-index) because Colab makes possible to test the execution both on the standard CPU kernel and on a GPU powered one.\n",
        "\n",
        "You can switch between them by selecting the following menuitems: Edit $\\rightarrow$ Notebook settings $\\rightarrow$ Hardware accelerator\n",
        "\n",
        "Local execution requires to [install TensorFlow](https://www.tensorflow.org/install/), which is not always an easy task due to different version of dependent libraries, and [tf.keras](https://www.tensorflow.org/guide/keras) which\n",
        "is TensorFlow's high-level API for building and training deep learning models. \n",
        "\n",
        "You may find detailed documentation at [Keras Guide](https://keras.io/)  [(see  also here)](https://www.tensorflow.org/guide/keras).\n",
        "\n",
        "## Required imports:"
      ]
    },
    {
      "cell_type": "code",
      "source": [
        "pip install tensorflow"
      ],
      "metadata": {
        "colab": {
          "base_uri": "https://localhost:8080/"
        },
        "id": "6h0Ux-yMR2as",
        "outputId": "dc5e4b0d-3f60-4909-9643-860708071e3f"
      },
      "execution_count": 1,
      "outputs": [
        {
          "output_type": "stream",
          "name": "stdout",
          "text": [
            "Requirement already satisfied: tensorflow in /usr/local/lib/python3.7/dist-packages (2.8.0)\n",
            "Requirement already satisfied: h5py>=2.9.0 in /usr/local/lib/python3.7/dist-packages (from tensorflow) (3.1.0)\n",
            "Requirement already satisfied: grpcio<2.0,>=1.24.3 in /usr/local/lib/python3.7/dist-packages (from tensorflow) (1.44.0)\n",
            "Requirement already satisfied: opt-einsum>=2.3.2 in /usr/local/lib/python3.7/dist-packages (from tensorflow) (3.3.0)\n",
            "Requirement already satisfied: flatbuffers>=1.12 in /usr/local/lib/python3.7/dist-packages (from tensorflow) (2.0)\n",
            "Requirement already satisfied: google-pasta>=0.1.1 in /usr/local/lib/python3.7/dist-packages (from tensorflow) (0.2.0)\n",
            "Requirement already satisfied: gast>=0.2.1 in /usr/local/lib/python3.7/dist-packages (from tensorflow) (0.5.3)\n",
            "Requirement already satisfied: wrapt>=1.11.0 in /usr/local/lib/python3.7/dist-packages (from tensorflow) (1.14.0)\n",
            "Requirement already satisfied: keras<2.9,>=2.8.0rc0 in /usr/local/lib/python3.7/dist-packages (from tensorflow) (2.8.0)\n",
            "Requirement already satisfied: absl-py>=0.4.0 in /usr/local/lib/python3.7/dist-packages (from tensorflow) (1.0.0)\n",
            "Requirement already satisfied: six>=1.12.0 in /usr/local/lib/python3.7/dist-packages (from tensorflow) (1.15.0)\n",
            "Requirement already satisfied: typing-extensions>=3.6.6 in /usr/local/lib/python3.7/dist-packages (from tensorflow) (4.2.0)\n",
            "Requirement already satisfied: tensorboard<2.9,>=2.8 in /usr/local/lib/python3.7/dist-packages (from tensorflow) (2.8.0)\n",
            "Requirement already satisfied: keras-preprocessing>=1.1.1 in /usr/local/lib/python3.7/dist-packages (from tensorflow) (1.1.2)\n",
            "Requirement already satisfied: astunparse>=1.6.0 in /usr/local/lib/python3.7/dist-packages (from tensorflow) (1.6.3)\n",
            "Requirement already satisfied: libclang>=9.0.1 in /usr/local/lib/python3.7/dist-packages (from tensorflow) (14.0.1)\n",
            "Requirement already satisfied: setuptools in /usr/local/lib/python3.7/dist-packages (from tensorflow) (57.4.0)\n",
            "Requirement already satisfied: protobuf>=3.9.2 in /usr/local/lib/python3.7/dist-packages (from tensorflow) (3.17.3)\n",
            "Requirement already satisfied: tensorflow-io-gcs-filesystem>=0.23.1 in /usr/local/lib/python3.7/dist-packages (from tensorflow) (0.25.0)\n",
            "Collecting tf-estimator-nightly==2.8.0.dev2021122109\n",
            "  Downloading tf_estimator_nightly-2.8.0.dev2021122109-py2.py3-none-any.whl (462 kB)\n",
            "\u001b[K     |████████████████████████████████| 462 kB 9.8 MB/s \n",
            "\u001b[?25hRequirement already satisfied: termcolor>=1.1.0 in /usr/local/lib/python3.7/dist-packages (from tensorflow) (1.1.0)\n",
            "Requirement already satisfied: numpy>=1.20 in /usr/local/lib/python3.7/dist-packages (from tensorflow) (1.21.6)\n",
            "Requirement already satisfied: wheel<1.0,>=0.23.0 in /usr/local/lib/python3.7/dist-packages (from astunparse>=1.6.0->tensorflow) (0.37.1)\n",
            "Requirement already satisfied: cached-property in /usr/local/lib/python3.7/dist-packages (from h5py>=2.9.0->tensorflow) (1.5.2)\n",
            "Requirement already satisfied: google-auth-oauthlib<0.5,>=0.4.1 in /usr/local/lib/python3.7/dist-packages (from tensorboard<2.9,>=2.8->tensorflow) (0.4.6)\n",
            "Requirement already satisfied: werkzeug>=0.11.15 in /usr/local/lib/python3.7/dist-packages (from tensorboard<2.9,>=2.8->tensorflow) (1.0.1)\n",
            "Requirement already satisfied: markdown>=2.6.8 in /usr/local/lib/python3.7/dist-packages (from tensorboard<2.9,>=2.8->tensorflow) (3.3.6)\n",
            "Requirement already satisfied: tensorboard-data-server<0.7.0,>=0.6.0 in /usr/local/lib/python3.7/dist-packages (from tensorboard<2.9,>=2.8->tensorflow) (0.6.1)\n",
            "Requirement already satisfied: tensorboard-plugin-wit>=1.6.0 in /usr/local/lib/python3.7/dist-packages (from tensorboard<2.9,>=2.8->tensorflow) (1.8.1)\n",
            "Requirement already satisfied: google-auth<3,>=1.6.3 in /usr/local/lib/python3.7/dist-packages (from tensorboard<2.9,>=2.8->tensorflow) (1.35.0)\n",
            "Requirement already satisfied: requests<3,>=2.21.0 in /usr/local/lib/python3.7/dist-packages (from tensorboard<2.9,>=2.8->tensorflow) (2.23.0)\n",
            "Requirement already satisfied: pyasn1-modules>=0.2.1 in /usr/local/lib/python3.7/dist-packages (from google-auth<3,>=1.6.3->tensorboard<2.9,>=2.8->tensorflow) (0.2.8)\n",
            "Requirement already satisfied: rsa<5,>=3.1.4 in /usr/local/lib/python3.7/dist-packages (from google-auth<3,>=1.6.3->tensorboard<2.9,>=2.8->tensorflow) (4.8)\n",
            "Requirement already satisfied: cachetools<5.0,>=2.0.0 in /usr/local/lib/python3.7/dist-packages (from google-auth<3,>=1.6.3->tensorboard<2.9,>=2.8->tensorflow) (4.2.4)\n",
            "Requirement already satisfied: requests-oauthlib>=0.7.0 in /usr/local/lib/python3.7/dist-packages (from google-auth-oauthlib<0.5,>=0.4.1->tensorboard<2.9,>=2.8->tensorflow) (1.3.1)\n",
            "Requirement already satisfied: importlib-metadata>=4.4 in /usr/local/lib/python3.7/dist-packages (from markdown>=2.6.8->tensorboard<2.9,>=2.8->tensorflow) (4.11.3)\n",
            "Requirement already satisfied: zipp>=0.5 in /usr/local/lib/python3.7/dist-packages (from importlib-metadata>=4.4->markdown>=2.6.8->tensorboard<2.9,>=2.8->tensorflow) (3.8.0)\n",
            "Requirement already satisfied: pyasn1<0.5.0,>=0.4.6 in /usr/local/lib/python3.7/dist-packages (from pyasn1-modules>=0.2.1->google-auth<3,>=1.6.3->tensorboard<2.9,>=2.8->tensorflow) (0.4.8)\n",
            "Requirement already satisfied: urllib3!=1.25.0,!=1.25.1,<1.26,>=1.21.1 in /usr/local/lib/python3.7/dist-packages (from requests<3,>=2.21.0->tensorboard<2.9,>=2.8->tensorflow) (1.24.3)\n",
            "Requirement already satisfied: certifi>=2017.4.17 in /usr/local/lib/python3.7/dist-packages (from requests<3,>=2.21.0->tensorboard<2.9,>=2.8->tensorflow) (2021.10.8)\n",
            "Requirement already satisfied: chardet<4,>=3.0.2 in /usr/local/lib/python3.7/dist-packages (from requests<3,>=2.21.0->tensorboard<2.9,>=2.8->tensorflow) (3.0.4)\n",
            "Requirement already satisfied: idna<3,>=2.5 in /usr/local/lib/python3.7/dist-packages (from requests<3,>=2.21.0->tensorboard<2.9,>=2.8->tensorflow) (2.10)\n",
            "Requirement already satisfied: oauthlib>=3.0.0 in /usr/local/lib/python3.7/dist-packages (from requests-oauthlib>=0.7.0->google-auth-oauthlib<0.5,>=0.4.1->tensorboard<2.9,>=2.8->tensorflow) (3.2.0)\n",
            "Installing collected packages: tf-estimator-nightly\n",
            "Successfully installed tf-estimator-nightly-2.8.0.dev2021122109\n"
          ]
        }
      ]
    },
    {
      "cell_type": "code",
      "execution_count": 2,
      "metadata": {
        "colab": {
          "base_uri": "https://localhost:8080/"
        },
        "id": "gHoRYxKGFKMe",
        "outputId": "244337ea-b659-4a94-b47b-ee3ae97a55bb"
      },
      "outputs": [
        {
          "output_type": "stream",
          "name": "stdout",
          "text": [
            "2.8.0\n"
          ]
        }
      ],
      "source": [
        "\n",
        "# TensorFlow and tf.keras\n",
        "import tensorflow as tf\n",
        "from tensorflow import keras\n",
        "from tensorflow.keras.layers import Conv2D, MaxPooling2D, Dropout, Flatten, Dense\n",
        "\n",
        "# Commonly used modules\n",
        "import numpy as np\n",
        "import os\n",
        "import sys\n",
        "import time\n",
        "\n",
        "# Images, plots, display, and visualization\n",
        "import matplotlib.pyplot as plt\n",
        "import pandas as pd\n",
        "\n",
        "print(tf.__version__)"
      ]
    },
    {
      "cell_type": "markdown",
      "metadata": {
        "id": "YRGrsd9uFKOb"
      },
      "source": [
        "## Download the Fashion-MNIST dataset \n",
        "\n",
        "\n",
        "The MIST data set of handwritten digits\n",
        "* is too easy (convolutional nets can achieve 99.7%) \n",
        "* is overused. \n",
        "* can not represent modern Computer Vision tasks\n",
        "\n",
        "[Fashion-MNIST](https://github.com/zalandoresearch/fashion-mnist) consists of 60,000 training images and 10,000 test images. It is a MNIST-like fashion product database. The developers believe MNIST has been overused so they created this as a direct replacement for that dataset. Each image is in greyscale and associated with a label from 10 classes.\n",
        "\n",
        "Fashion-MNIST is a dataset of Zalando's article images—consisting of a training set of 60,000 examples and a test set of 10,000 examples. \n",
        "Each example is a 28x28 grayscale image, associated with a label from 10 classes.\n",
        "\n",
        "\n",
        "Fashion-MNIST  serves as a direct drop-in replacement for the original MNIST dataset for benchmarking machine learning algorithms. It shares the same image size and structure of training and testing splits.\n",
        "\n",
        "* Size: 30 MB\n",
        "\n",
        "* Number of Records: 70,000 images in 10 classes\n",
        "\n",
        "* Images are 28x28 NumPy arrays, with pixel values ranging between 0 and 255. \n",
        "\n",
        "* Labels are an array of integers, ranging from 0 to 9.\n",
        "\n",
        "Label\tDescription\n",
        "0.\tT-shirt/top\n",
        "1.\tTrouser\n",
        "2.\tPullover\n",
        "3.\tDress\n",
        "4.\tCoat\n",
        "5.\tSandal\n",
        "6.\tShirt\n",
        "7.\tSneaker\n",
        "8.\tBag\n",
        "9.\tAnkle boot\n",
        "\n",
        "On https://github.com/zalandoresearch/fashion-mnist there is a list of benchmarks and the related NN architectures."
      ]
    },
    {
      "cell_type": "code",
      "execution_count": 3,
      "metadata": {
        "id": "34UQqKpyFKOk",
        "colab": {
          "base_uri": "https://localhost:8080/"
        },
        "outputId": "6126718d-c0d6-4aa1-b2ca-705d2aa01c9e"
      },
      "outputs": [
        {
          "output_type": "stream",
          "name": "stdout",
          "text": [
            "Downloading data from https://storage.googleapis.com/tensorflow/tf-keras-datasets/train-labels-idx1-ubyte.gz\n",
            "32768/29515 [=================================] - 0s 0us/step\n",
            "40960/29515 [=========================================] - 0s 0us/step\n",
            "Downloading data from https://storage.googleapis.com/tensorflow/tf-keras-datasets/train-images-idx3-ubyte.gz\n",
            "26427392/26421880 [==============================] - 0s 0us/step\n",
            "26435584/26421880 [==============================] - 0s 0us/step\n",
            "Downloading data from https://storage.googleapis.com/tensorflow/tf-keras-datasets/t10k-labels-idx1-ubyte.gz\n",
            "16384/5148 [===============================================================================================] - 0s 0us/step\n",
            "Downloading data from https://storage.googleapis.com/tensorflow/tf-keras-datasets/t10k-images-idx3-ubyte.gz\n",
            "4423680/4422102 [==============================] - 0s 0us/step\n",
            "4431872/4422102 [==============================] - 0s 0us/step\n"
          ]
        }
      ],
      "source": [
        "(train_images, train_labels), (test_images, test_labels) = keras.datasets.fashion_mnist.load_data()\n",
        "size_x=28\n",
        "size_y=28\n",
        "# reshape images to specify that it's a single channel\n",
        "train_images = train_images.reshape(train_images.shape[0], size_x, size_y, 1)\n",
        "test_images = test_images.reshape(test_images.shape[0], size_x, size_y, 1)"
      ]
    },
    {
      "cell_type": "markdown",
      "metadata": {
        "id": "CHsgfXYLFKOs"
      },
      "source": [
        "Let's convert the image pixels into a range of 0 to 1 before feeding to the neural network model by dividing the values of both the *training set* and the *testing set* by 255."
      ]
    },
    {
      "cell_type": "code",
      "execution_count": 4,
      "metadata": {
        "id": "NLeTnDZWFKOv"
      },
      "outputs": [],
      "source": [
        "def preprocess_images(imgs): # should work for both a single image and multiple images\n",
        "    sample_img = imgs if len(imgs.shape) == 2 else imgs[0]\n",
        "    assert sample_img.shape in [(size_x, size_y, 1), (size_x, size_y)], sample_img.shape # make sure images are 28x28 and single-channel (grayscale)\n",
        "    return imgs / 255.0\n",
        "\n",
        "train_images = preprocess_images(train_images)\n",
        "test_images = preprocess_images(test_images)"
      ]
    },
    {
      "cell_type": "markdown",
      "metadata": {
        "id": "ftNdQX_ZFKPD"
      },
      "source": [
        "Display the first *count* images from the *training set* and display the class name below each image. "
      ]
    },
    {
      "cell_type": "code",
      "execution_count": 5,
      "metadata": {
        "colab": {
          "base_uri": "https://localhost:8080/",
          "height": 95
        },
        "id": "WvQDj48KFKPH",
        "outputId": "4aef8251-2797-48b6-9860-bb012f35790b"
      },
      "outputs": [
        {
          "output_type": "display_data",
          "data": {
            "text/plain": [
              "<Figure size 1152x72 with 15 Axes>"
            ],
            "image/png": "[encoded data removed]"
          },
          "metadata": {}
        }
      ],
      "source": [
        "count = 15\n",
        "plt.figure(figsize=(16,1))\n",
        "for i in range(count):\n",
        "    plt.subplot(1,count,i+1)\n",
        "    plt.xticks([])\n",
        "    plt.yticks([])\n",
        "    plt.grid(False)\n",
        "    plt.imshow(train_images[i].reshape(size_x, size_y), cmap=plt.cm.binary)\n",
        "    plt.xlabel(train_labels[i])"
      ]
    },
    {
      "cell_type": "markdown",
      "metadata": {
        "id": "EqYEqUJxFKPS"
      },
      "source": [
        "\n",
        "### Optimize the CNN model\n",
        "\n",
        "Building the neural network requires configuring the layers of the model, then compiling the model. Here follows one possible configuration.\n",
        "\n",
        "You should analyze the present configuration and add other building blocks to obtain your best generalization result (accuracy) on the test set. \n",
        "\n",
        "Take inspiration from the Demos on Keras,  the documentation of [Keras](https://keras.io/) and on the architectures of benchmarks listed on the site of [Fashion-MNIST](https://github.com/zalandoresearch/fashion-mnist).\n",
        " \n"
      ]
    },
    {
      "cell_type": "code",
      "source": [
        ""
      ],
      "metadata": {
        "id": "LEW8IBG_hgE9"
      },
      "execution_count": 5,
      "outputs": []
    },
    {
      "cell_type": "code",
      "execution_count": 16,
      "metadata": {
        "colab": {
          "base_uri": "https://localhost:8080/"
        },
        "id": "oWOa5LOVFKPT",
        "outputId": "bf959ac7-03c1-4782-a521-fa99c11db749"
      },
      "outputs": [
        {
          "output_type": "stream",
          "name": "stdout",
          "text": [
            "Model: \"sequential_1\"\n",
            "_________________________________________________________________\n",
            " Layer (type)                Output Shape              Param #   \n",
            "=================================================================\n",
            " conv2d_2 (Conv2D)           (None, 26, 26, 64)        640       \n",
            "                                                                 \n",
            " conv2d_3 (Conv2D)           (None, 21, 21, 32)        73760     \n",
            "                                                                 \n",
            " max_pooling2d_2 (MaxPooling  (None, 10, 10, 32)       0         \n",
            " 2D)                                                             \n",
            "                                                                 \n",
            " max_pooling2d_3 (MaxPooling  (None, 5, 5, 32)         0         \n",
            " 2D)                                                             \n",
            "                                                                 \n",
            " dropout_1 (Dropout)         (None, 5, 5, 32)          0         \n",
            "                                                                 \n",
            " flatten_1 (Flatten)         (None, 800)               0         \n",
            "                                                                 \n",
            " dense_2 (Dense)             (None, 64)                51264     \n",
            "                                                                 \n",
            " dense_3 (Dense)             (None, 10)                650       \n",
            "                                                                 \n",
            "=================================================================\n",
            "Total params: 126,314\n",
            "Trainable params: 126,314\n",
            "Non-trainable params: 0\n",
            "_________________________________________________________________\n",
            "None\n",
            "Model: \"sequential_1\"\n",
            "_________________________________________________________________\n",
            " Layer (type)                Output Shape              Param #   \n",
            "=================================================================\n",
            " conv2d_2 (Conv2D)           (None, 26, 26, 64)        640       \n",
            "                                                                 \n",
            " conv2d_3 (Conv2D)           (None, 21, 21, 32)        73760     \n",
            "                                                                 \n",
            " max_pooling2d_2 (MaxPooling  (None, 10, 10, 32)       0         \n",
            " 2D)                                                             \n",
            "                                                                 \n",
            " max_pooling2d_3 (MaxPooling  (None, 5, 5, 32)         0         \n",
            " 2D)                                                             \n",
            "                                                                 \n",
            " dropout_1 (Dropout)         (None, 5, 5, 32)          0         \n",
            "                                                                 \n",
            " flatten_1 (Flatten)         (None, 800)               0         \n",
            "                                                                 \n",
            " dense_2 (Dense)             (None, 64)                51264     \n",
            "                                                                 \n",
            " dense_3 (Dense)             (None, 10)                650       \n",
            "                                                                 \n",
            "=================================================================\n",
            "Total params: 126,314\n",
            "Trainable params: 126,314\n",
            "Non-trainable params: 0\n",
            "_________________________________________________________________\n",
            "None\n"
          ]
        }
      ],
      "source": [
        "from tensorflow.keras.layers import Bidirectional\n",
        "from keras.layers.recurrent import LSTM\n",
        "from tensorflow.keras.models import Sequential\n",
        "from tensorflow.keras.layers import BatchNormalization\n",
        "from tensorflow.keras.layers import Conv2D\n",
        "from tensorflow.keras.layers import MaxPooling2D\n",
        "from tensorflow.keras.layers import Activation\n",
        "from tensorflow.keras.layers import Flatten\n",
        "from tensorflow.keras.layers import Dropout\n",
        "from tensorflow.keras.layers import Dense\n",
        "from tensorflow.keras import backend as K\n",
        "inputShape = (size_x, size_y, 1)\n",
        "\n",
        "\n",
        "\n",
        "model = keras.Sequential()\n",
        "model.add(Conv2D(filters = 64, kernel_size = (3,3), activation='relu', input_shape = inputShape))\n",
        "model.add(Conv2D(filters = 32, kernel_size = (6,6), activation='relu'))\n",
        "model.add(MaxPooling2D(strides=(2,2)))\n",
        "\n",
        "model.add(MaxPooling2D(strides=(2,2)))\n",
        "\n",
        "model.add(Dropout(0.5, input_shape=(inputShape)))\n",
        "model.add(Flatten())\n",
        "\n",
        "model.add(Dense(64, activation='relu'))\n",
        "model.add(Dense(10, activation='softmax'))\n",
        "\n",
        "\n",
        "\n",
        "print(model.summary())\n",
        "print(model.summary())"
      ]
    },
    {
      "cell_type": "markdown",
      "metadata": {
        "id": "fUHo8mPbFKPb"
      },
      "source": [
        "## Model compilation\n",
        "\n",
        "Before the model is ready for training, it needs a few more settings. These are added during the model's *compile* step:\n",
        "\n",
        "* *Loss function* - measures how accurate the model is during training, we want to minimize this with the optimizer.\n",
        "* *Optimizer* - how the model is updated based on the data it sees and its loss function.\n",
        "* *Metrics* - used to monitor the training and testing steps. \"accuracy\" is the fraction of images that are correctly classified.\n",
        "\n",
        "Those setting are relevant to improve the generalization on the test set and the learning time.\n",
        "See the [Keras documentation](https://keras.io/) to select the optimal setting."
      ]
    },
    {
      "cell_type": "code",
      "execution_count": 17,
      "metadata": {
        "id": "gPDJn26KFKPe"
      },
      "outputs": [],
      "source": [
        "model.compile(optimizer=tf.optimizers.SGD(), loss='sparse_categorical_crossentropy', metrics=['accuracy'])"
      ]
    },
    {
      "cell_type": "markdown",
      "metadata": {
        "id": "CzydQVk1FKPm"
      },
      "source": [
        "### Model training\n",
        "\n",
        "\n",
        "Being in a context of *supervised learning*, training the neural network model requires to call the `model.fit` method on the training data `train_images` and the relevant ground truth `train_labels`.\n",
        "\n",
        "To make predictions we use a test set `test_images` and check the predictions against the `test_labels` array. "
      ]
    },
    {
      "cell_type": "code",
      "execution_count": 18,
      "metadata": {
        "colab": {
          "base_uri": "https://localhost:8080/"
        },
        "id": "UuerNpGCFKPn",
        "outputId": "50346d6a-beac-49b4-ed84-95105805ba0a",
        "scrolled": true
      },
      "outputs": [
        {
          "output_type": "stream",
          "name": "stdout",
          "text": [
            "(60000, 28, 28, 1)\n",
            "Epoch 1/40\n",
            "2400/2400 [==============================] - 9s 4ms/step - loss: 0.8845 - accuracy: 0.6761 - val_loss: 0.5340 - val_accuracy: 0.8019\n",
            "Epoch 2/40\n",
            "2400/2400 [==============================] - 8s 4ms/step - loss: 0.5519 - accuracy: 0.7992 - val_loss: 0.4601 - val_accuracy: 0.8307\n",
            "Epoch 3/40\n",
            "2400/2400 [==============================] - 8s 3ms/step - loss: 0.4961 - accuracy: 0.8191 - val_loss: 0.4181 - val_accuracy: 0.8483\n",
            "Epoch 4/40\n",
            "2400/2400 [==============================] - 8s 3ms/step - loss: 0.4640 - accuracy: 0.8300 - val_loss: 0.4154 - val_accuracy: 0.8501\n",
            "Epoch 5/40\n",
            "2400/2400 [==============================] - 9s 4ms/step - loss: 0.4422 - accuracy: 0.8403 - val_loss: 0.3797 - val_accuracy: 0.8646\n",
            "Epoch 6/40\n",
            "2400/2400 [==============================] - 8s 3ms/step - loss: 0.4242 - accuracy: 0.8451 - val_loss: 0.3700 - val_accuracy: 0.8653\n",
            "Epoch 7/40\n",
            "2400/2400 [==============================] - 8s 3ms/step - loss: 0.4101 - accuracy: 0.8499 - val_loss: 0.3655 - val_accuracy: 0.8627\n",
            "Epoch 8/40\n",
            "2400/2400 [==============================] - 8s 3ms/step - loss: 0.3974 - accuracy: 0.8540 - val_loss: 0.3432 - val_accuracy: 0.8775\n",
            "Epoch 9/40\n",
            "2400/2400 [==============================] - 8s 3ms/step - loss: 0.3814 - accuracy: 0.8607 - val_loss: 0.3324 - val_accuracy: 0.8785\n",
            "Epoch 10/40\n",
            "2400/2400 [==============================] - 9s 4ms/step - loss: 0.3739 - accuracy: 0.8626 - val_loss: 0.3333 - val_accuracy: 0.8763\n",
            "Epoch 11/40\n",
            "2400/2400 [==============================] - 8s 3ms/step - loss: 0.3641 - accuracy: 0.8670 - val_loss: 0.3314 - val_accuracy: 0.8752\n",
            "Epoch 12/40\n",
            "2400/2400 [==============================] - 8s 4ms/step - loss: 0.3549 - accuracy: 0.8707 - val_loss: 0.3299 - val_accuracy: 0.8788\n",
            "Epoch 13/40\n",
            "2400/2400 [==============================] - 8s 3ms/step - loss: 0.3469 - accuracy: 0.8731 - val_loss: 0.3184 - val_accuracy: 0.8823\n",
            "Epoch 14/40\n",
            "2400/2400 [==============================] - 8s 3ms/step - loss: 0.3352 - accuracy: 0.8771 - val_loss: 0.2990 - val_accuracy: 0.8907\n",
            "Epoch 15/40\n",
            "2400/2400 [==============================] - 8s 4ms/step - loss: 0.3297 - accuracy: 0.8791 - val_loss: 0.3076 - val_accuracy: 0.8863\n",
            "Epoch 16/40\n",
            "2400/2400 [==============================] - 8s 4ms/step - loss: 0.3229 - accuracy: 0.8817 - val_loss: 0.2967 - val_accuracy: 0.8914\n",
            "Epoch 17/40\n",
            "2400/2400 [==============================] - 8s 4ms/step - loss: 0.3175 - accuracy: 0.8830 - val_loss: 0.2837 - val_accuracy: 0.8953\n",
            "Epoch 18/40\n",
            "2400/2400 [==============================] - 8s 3ms/step - loss: 0.3120 - accuracy: 0.8851 - val_loss: 0.2812 - val_accuracy: 0.8967\n",
            "Epoch 19/40\n",
            "2400/2400 [==============================] - 8s 4ms/step - loss: 0.3091 - accuracy: 0.8856 - val_loss: 0.2826 - val_accuracy: 0.8957\n",
            "Epoch 20/40\n",
            "2400/2400 [==============================] - 8s 3ms/step - loss: 0.3034 - accuracy: 0.8883 - val_loss: 0.3009 - val_accuracy: 0.8879\n",
            "Epoch 21/40\n",
            "2400/2400 [==============================] - 8s 3ms/step - loss: 0.2984 - accuracy: 0.8913 - val_loss: 0.2774 - val_accuracy: 0.8977\n",
            "Epoch 22/40\n",
            "2400/2400 [==============================] - 8s 3ms/step - loss: 0.2956 - accuracy: 0.8915 - val_loss: 0.2689 - val_accuracy: 0.9022\n",
            "Epoch 23/40\n",
            "2400/2400 [==============================] - 8s 3ms/step - loss: 0.2914 - accuracy: 0.8931 - val_loss: 0.2705 - val_accuracy: 0.9016\n",
            "Epoch 24/40\n",
            "2400/2400 [==============================] - 8s 3ms/step - loss: 0.2881 - accuracy: 0.8930 - val_loss: 0.2591 - val_accuracy: 0.9043\n",
            "Epoch 25/40\n",
            "2400/2400 [==============================] - 8s 4ms/step - loss: 0.2832 - accuracy: 0.8949 - val_loss: 0.2569 - val_accuracy: 0.9057\n",
            "Epoch 26/40\n",
            "2400/2400 [==============================] - 8s 3ms/step - loss: 0.2835 - accuracy: 0.8958 - val_loss: 0.2601 - val_accuracy: 0.9058\n",
            "Epoch 27/40\n",
            "2400/2400 [==============================] - 8s 4ms/step - loss: 0.2781 - accuracy: 0.8968 - val_loss: 0.2568 - val_accuracy: 0.9064\n",
            "Epoch 28/40\n",
            "2400/2400 [==============================] - 8s 3ms/step - loss: 0.2765 - accuracy: 0.8973 - val_loss: 0.2560 - val_accuracy: 0.9064\n",
            "Epoch 29/40\n",
            "2400/2400 [==============================] - 8s 3ms/step - loss: 0.2738 - accuracy: 0.8981 - val_loss: 0.2505 - val_accuracy: 0.9095\n",
            "Epoch 30/40\n",
            "2400/2400 [==============================] - 8s 4ms/step - loss: 0.2711 - accuracy: 0.8993 - val_loss: 0.2483 - val_accuracy: 0.9109\n",
            "Epoch 31/40\n",
            "2400/2400 [==============================] - 8s 3ms/step - loss: 0.2660 - accuracy: 0.9021 - val_loss: 0.2569 - val_accuracy: 0.9038\n",
            "Epoch 32/40\n",
            "2400/2400 [==============================] - 8s 3ms/step - loss: 0.2649 - accuracy: 0.9003 - val_loss: 0.2435 - val_accuracy: 0.9084\n",
            "Epoch 33/40\n",
            "2400/2400 [==============================] - 8s 3ms/step - loss: 0.2633 - accuracy: 0.9025 - val_loss: 0.2440 - val_accuracy: 0.9093\n",
            "Epoch 34/40\n",
            "2400/2400 [==============================] - 8s 3ms/step - loss: 0.2614 - accuracy: 0.9029 - val_loss: 0.2439 - val_accuracy: 0.9093\n",
            "Epoch 35/40\n",
            "2400/2400 [==============================] - 8s 4ms/step - loss: 0.2604 - accuracy: 0.9035 - val_loss: 0.2386 - val_accuracy: 0.9111\n",
            "Epoch 36/40\n",
            "2400/2400 [==============================] - 8s 3ms/step - loss: 0.2551 - accuracy: 0.9069 - val_loss: 0.2349 - val_accuracy: 0.9134\n",
            "Epoch 37/40\n",
            "2400/2400 [==============================] - 8s 3ms/step - loss: 0.2548 - accuracy: 0.9054 - val_loss: 0.2364 - val_accuracy: 0.9130\n",
            "Epoch 38/40\n",
            "2400/2400 [==============================] - 8s 4ms/step - loss: 0.2509 - accuracy: 0.9056 - val_loss: 0.2380 - val_accuracy: 0.9122\n",
            "Epoch 39/40\n",
            "2400/2400 [==============================] - 8s 3ms/step - loss: 0.2481 - accuracy: 0.9077 - val_loss: 0.2352 - val_accuracy: 0.9122\n",
            "Epoch 40/40\n",
            "2400/2400 [==============================] - 8s 3ms/step - loss: 0.2504 - accuracy: 0.9075 - val_loss: 0.2322 - val_accuracy: 0.9152\n",
            "\n",
            "Training time (seconds) 382.60478615760803\n"
          ]
        }
      ],
      "source": [
        "import tensorflow as tf\n",
        "from tensorflow import keras\n",
        "\n",
        "callback = tf.keras.callbacks.EarlyStopping(monitor='loss', patience=3)\n",
        "print(train_images.shape)\n",
        "t_before = time.time()    \n",
        "history = model.fit(train_images, train_labels, validation_data=(test_images, test_labels),epochs=40,validation_split=0.2,batch_size=20,\n",
        "                    callbacks=[callback],)\n",
        "t_after = time.time()\n",
        "t_training = t_after - t_before\n",
        "print()\n",
        "print(\"Training time (seconds)\", t_training)"
      ]
    },
    {
      "cell_type": "markdown",
      "metadata": {
        "id": "VXZTp2GA8cIS"
      },
      "source": [
        "## CNN Fashion Mnist - Challenge CI Strategos 2021/22\n",
        "\n",
        "Add your best result to the [shared table](https://docs.google.com/spreadsheets/d/1RwZDt9mmNH-eMusX6Yqukw1-v_oHSWSQDVlKqF-e97w/edit?usp=sharing)"
      ]
    },
    {
      "cell_type": "markdown",
      "metadata": {
        "id": "xV0fw3Lqhdw3"
      },
      "source": [
        "### Additional Discussion Here\n",
        "* ...\n",
        "\n",
        "We use 2 convolution layers followed by 2 Maxpool layers which mainly helps in extracting sharp and smooth features. It is also done to reduce variance and computations. Max-pooling helps in extracting low-level features like edges, points, etc\n",
        "\n",
        "Dropout layer is used to avoid overfitting of data\n",
        "\n",
        "Furthermore Dense Layer is used  which is to classify image based on output from convolutional layers.\n",
        "We also applied Flattening which allows converting the data into a 1-dimensional array for inputting it to the next layer."
      ]
    },
    {
      "cell_type": "code",
      "source": [
        "import matplotlib.pyplot as plt\n",
        "\n",
        "%matplotlib inline\n",
        "\n",
        "acc = history.history['accuracy']\n",
        "\n",
        "val_acc = history.history['val_accuracy']\n",
        "\n",
        "loss = history.history['loss']\n",
        "\n",
        "val_loss = history.history['val_loss'] \n",
        "\n",
        "\n",
        "\n",
        "epochs = range(len(acc))\n",
        "\n",
        "\n",
        "\n",
        "plt.plot(epochs, acc, 'bo', label='Training acc')\n",
        "\n",
        "plt.plot(epochs, val_acc, 'b', label='Validation acc')\n",
        "\n",
        "plt.title('Training and validation accuracy')\n",
        "\n",
        "plt.legend()\n",
        "\n",
        "\n",
        "\n",
        "plt.figure()\n",
        "\n",
        "\n",
        "\n",
        "plt.plot(epochs, loss, 'bo', label='Training loss')\n",
        "\n",
        "plt.plot(epochs, val_loss, 'b', label='Validation loss')\n",
        "\n",
        "plt.title('Training and validation loss')\n",
        "\n",
        "plt.legend()\n",
        "\n",
        "\n",
        "\n",
        "plt.show()"
      ],
      "metadata": {
        "colab": {
          "base_uri": "https://localhost:8080/",
          "height": 545
        },
        "id": "TamJojaRQnH9",
        "outputId": "c60d666b-92c1-4940-915d-51b6790b7516"
      },
      "execution_count": 19,
      "outputs": [
        {
          "output_type": "display_data",
          "data": {
            "text/plain": [
              "<Figure size 432x288 with 1 Axes>"
            ],
            "image/png": "[encoded data removed]"
          },
          "metadata": {
            "needs_background": "light"
          }
        },
        {
          "output_type": "display_data",
          "data": {
            "text/plain": [
              "<Figure size 432x288 with 1 Axes>"
            ],
            "image/png": "[encoded data removed]"
          },
          "metadata": {
            "needs_background": "light"
          }
        }
      ]
    }
  ],
  "metadata": {
    "accelerator": "GPU",
    "colab": {
      "collapsed_sections": [],
      "name": "HW_CI_7_CNN_Fashion.ipynb",
      "provenance": []
    },
    "kernelspec": {
      "display_name": "Python 3",
      "language": "python",
      "name": "python3"
    },
    "language_info": {
      "codemirror_mode": {
        "name": "ipython",
        "version": 3
      },
      "file_extension": ".py",
      "mimetype": "text/x-python",
      "name": "python",
      "nbconvert_exporter": "python",
      "pygments_lexer": "ipython3",
      "version": "3.8.10"
    }
  },
  "nbformat": 4,
  "nbformat_minor": 0
}