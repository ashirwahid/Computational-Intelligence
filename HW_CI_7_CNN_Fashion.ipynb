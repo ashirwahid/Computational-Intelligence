{
 "cells": [
  {
   "cell_type": "markdown",
   "metadata": {
    "id": "9WjsBPzEFKMW"
   },
   "source": [
    "# HW CI-7 CNN Fashion\n",
    "\n",
    "\n",
    "Computational Intelligence  - STRATEGOS  UNIGE\n",
    "\n",
    "Names (s) ..............................................\n",
    "\n",
    "Date ...............\n",
    "\n",
    "\n"
   ]
  },
  {
   "cell_type": "markdown",
   "metadata": {
    "id": "lk7ayopvh6vr"
   },
   "source": [
    "## Assignment: Implement a CNN in Keras\n",
    "\n",
    "We will implement a Convolutional Neural Network in Keras\n",
    "\n",
    "Then we will apply our CNN to Fashion MNIST dataset \n",
    "\n",
    "\n",
    "### CNN Fashion Mnist - Challenge CI Strategos 2021-22\n",
    "After submitted your Homework on the Aulaweb of the CI course\n",
    "your best result to the [shared table](https://docs.google.com/spreadsheets/d/1RwZDt9mmNH-eMusX6Yqukw1-v_oHSWSQDVlKqF-e97w/edit?usp=sharing) before the due date of the Homework\n",
    "\n",
    "The winner(s) of the challenge will receive .5 extra-mark"
   ]
  },
  {
   "cell_type": "markdown",
   "metadata": {
    "id": "0SyO72xOFKMX"
   },
   "source": [
    "## Pre-requisites:\n",
    "\n",
    "It is possible to run this notebook locally on a jupyter installation, but we recommend to run this this notebook in the cloud on [Google Colab](https://colab.research.google.com/?utm_source=scs-index) because Colab makes possible to test the execution both on the standard CPU kernel and on a GPU powered one.\n",
    "\n",
    "You can switch between them by selecting the following menuitems: Edit $\\rightarrow$ Notebook settings $\\rightarrow$ Hardware accelerator\n",
    "\n",
    "Local execution requires to [install TensorFlow](https://www.tensorflow.org/install/), which is not always an easy task due to different version of dependent libraries, and [tf.keras](https://www.tensorflow.org/guide/keras) which\n",
    "is TensorFlow's high-level API for building and training deep learning models. \n",
    "\n",
    "You may find detailed documentation at [Keras Guide](https://keras.io/)  [(see  also here)](https://www.tensorflow.org/guide/keras).\n",
    "\n",
    "## Required imports:"
   ]
  },
  {
   "cell_type": "code",
   "execution_count": 1,
   "metadata": {
    "colab": {
     "base_uri": "https://localhost:8080/"
    },
    "id": "gHoRYxKGFKMe",
    "outputId": "79ffdc5f-bf64-4a91-91a2-152fac7b655a"
   },
   "outputs": [
    {
     "name": "stdout",
     "output_type": "stream",
     "text": [
      "2.4.1\n"
     ]
    }
   ],
   "source": [
    "\n",
    "# TensorFlow and tf.keras\n",
    "import tensorflow as tf\n",
    "from tensorflow import keras\n",
    "from tensorflow.keras.layers import Conv2D, MaxPooling2D, Dropout, Flatten, Dense\n",
    "\n",
    "# Commonly used modules\n",
    "import numpy as np\n",
    "import os\n",
    "import sys\n",
    "import time\n",
    "\n",
    "# Images, plots, display, and visualization\n",
    "import matplotlib.pyplot as plt\n",
    "import pandas as pd\n",
    "\n",
    "print(tf.__version__)"
   ]
  },
  {
   "cell_type": "markdown",
   "metadata": {
    "id": "YRGrsd9uFKOb"
   },
   "source": [
    "## Download the Fashion-MNIST dataset \n",
    "\n",
    "\n",
    "The MIST data set of handwritten digits\n",
    "* is too easy (convolutional nets can achieve 99.7%) \n",
    "* is overused. \n",
    "* can not represent modern Computer Vision tasks\n",
    "\n",
    "[Fashion-MNIST](https://github.com/zalandoresearch/fashion-mnist) consists of 60,000 training images and 10,000 test images. It is a MNIST-like fashion product database. The developers believe MNIST has been overused so they created this as a direct replacement for that dataset. Each image is in greyscale and associated with a label from 10 classes.\n",
    "\n",
    "Fashion-MNIST is a dataset of Zalando's article images—consisting of a training set of 60,000 examples and a test set of 10,000 examples. \n",
    "Each example is a 28x28 grayscale image, associated with a label from 10 classes.\n",
    "\n",
    "\n",
    "Fashion-MNIST  serves as a direct drop-in replacement for the original MNIST dataset for benchmarking machine learning algorithms. It shares the same image size and structure of training and testing splits.\n",
    "\n",
    "* Size: 30 MB\n",
    "\n",
    "* Number of Records: 70,000 images in 10 classes\n",
    "\n",
    "* Images are 28x28 NumPy arrays, with pixel values ranging between 0 and 255. \n",
    "\n",
    "* Labels are an array of integers, ranging from 0 to 9.\n",
    "\n",
    "Label\tDescription\n",
    "0.\tT-shirt/top\n",
    "1.\tTrouser\n",
    "2.\tPullover\n",
    "3.\tDress\n",
    "4.\tCoat\n",
    "5.\tSandal\n",
    "6.\tShirt\n",
    "7.\tSneaker\n",
    "8.\tBag\n",
    "9.\tAnkle boot\n",
    "\n",
    "On https://github.com/zalandoresearch/fashion-mnist there is a list of benchmarks and the related NN architectures."
   ]
  },
  {
   "cell_type": "code",
   "execution_count": 2,
   "metadata": {
    "colab": {
     "base_uri": "https://localhost:8080/"
    },
    "id": "34UQqKpyFKOk",
    "outputId": "6562a2f6-1f56-4dd9-cd3c-ec554e389e6a"
   },
   "outputs": [
    {
     "name": "stdout",
     "output_type": "stream",
     "text": [
      "Downloading data from https://storage.googleapis.com/tensorflow/tf-keras-datasets/train-labels-idx1-ubyte.gz\n",
      "32768/29515 [=================================] - 0s 0us/step\n",
      "Downloading data from https://storage.googleapis.com/tensorflow/tf-keras-datasets/train-images-idx3-ubyte.gz\n",
      "26427392/26421880 [==============================] - 0s 0us/step\n",
      "Downloading data from https://storage.googleapis.com/tensorflow/tf-keras-datasets/t10k-labels-idx1-ubyte.gz\n",
      "8192/5148 [===============================================] - 0s 0us/step\n",
      "Downloading data from https://storage.googleapis.com/tensorflow/tf-keras-datasets/t10k-images-idx3-ubyte.gz\n",
      "4423680/4422102 [==============================] - 0s 0us/step\n"
     ]
    }
   ],
   "source": [
    "(train_images, train_labels), (test_images, test_labels) = keras.datasets.fashion_mnist.load_data()\n",
    "size_x=28\n",
    "size_y=28\n",
    "# reshape images to specify that it's a single channel\n",
    "train_images = train_images.reshape(train_images.shape[0], size_x, size_y, 1)\n",
    "test_images = test_images.reshape(test_images.shape[0], size_x, size_y, 1)"
   ]
  },
  {
   "cell_type": "markdown",
   "metadata": {
    "id": "CHsgfXYLFKOs"
   },
   "source": [
    "Let's convert the image pixels into a range of 0 to 1 before feeding to the neural network model by dividing the values of both the *training set* and the *testing set* by 255."
   ]
  },
  {
   "cell_type": "code",
   "execution_count": 3,
   "metadata": {
    "id": "NLeTnDZWFKOv"
   },
   "outputs": [],
   "source": [
    "def preprocess_images(imgs): # should work for both a single image and multiple images\n",
    "    sample_img = imgs if len(imgs.shape) == 2 else imgs[0]\n",
    "    assert sample_img.shape in [(size_x, size_y, 1), (size_x, size_y)], sample_img.shape # make sure images are 28x28 and single-channel (grayscale)\n",
    "    return imgs / 255.0\n",
    "\n",
    "train_images = preprocess_images(train_images)\n",
    "test_images = preprocess_images(test_images)"
   ]
  },
  {
   "cell_type": "markdown",
   "metadata": {
    "id": "ftNdQX_ZFKPD"
   },
   "source": [
    "Display the first *count* images from the *training set* and display the class name below each image. "
   ]
  },
  {
   "cell_type": "code",
   "execution_count": 4,
   "metadata": {
    "colab": {
     "base_uri": "https://localhost:8080/",
     "height": 88
    },
    "id": "WvQDj48KFKPH",
    "outputId": "da1e0076-f837-401f-cdf9-f1faea0631f0"
   },
   "outputs": [
    {
     "data": {
      "image/png": "[encoded data removed]",
      "text/plain": [
       "<Figure size 1152x72 with 15 Axes>"
      ]
     },
     "metadata": {
      "tags": []
     },
     "output_type": "display_data"
    }
   ],
   "source": [
    "count = 15\n",
    "plt.figure(figsize=(16,1))\n",
    "for i in range(count):\n",
    "    plt.subplot(1,count,i+1)\n",
    "    plt.xticks([])\n",
    "    plt.yticks([])\n",
    "    plt.grid(False)\n",
    "    plt.imshow(train_images[i].reshape(size_x, size_y), cmap=plt.cm.binary)\n",
    "    plt.xlabel(train_labels[i])"
   ]
  },
  {
   "cell_type": "markdown",
   "metadata": {
    "id": "EqYEqUJxFKPS"
   },
   "source": [
    "\n",
    "### Optimize the CNN model\n",
    "\n",
    "Building the neural network requires configuring the layers of the model, then compiling the model. Here follows one possible configuration.\n",
    "\n",
    "You should analyze the present configuration and add other building blocks to obtain your best generalization result (accuracy) on the test set. \n",
    "\n",
    "Take inspiration from the Demos on Keras,  the documentation of [Keras](https://keras.io/) and on the architectures of benchmarks listed on the site of [Fashion-MNIST](https://github.com/zalandoresearch/fashion-mnist).\n",
    " \n"
   ]
  },
  {
   "cell_type": "code",
   "execution_count": 5,
   "metadata": {
    "colab": {
     "base_uri": "https://localhost:8080/"
    },
    "id": "oWOa5LOVFKPT",
    "outputId": "6e8fa7ba-dd36-4ccf-868f-d015d2535e76"
   },
   "outputs": [
    {
     "name": "stdout",
     "output_type": "stream",
     "text": [
      "Model: \"sequential\"\n",
      "_________________________________________________________________\n",
      "Layer (type)                 Output Shape              Param #   \n",
      "=================================================================\n",
      "conv2d (Conv2D)              (None, 26, 26, 128)       1280      \n",
      "_________________________________________________________________\n",
      "flatten (Flatten)            (None, 86528)             0         \n",
      "_________________________________________________________________\n",
      "dense (Dense)                (None, 10)                865290    \n",
      "=================================================================\n",
      "Total params: 866,570\n",
      "Trainable params: 866,570\n",
      "Non-trainable params: 0\n",
      "_________________________________________________________________\n",
      "None\n"
     ]
    }
   ],
   "source": [
    "model = keras.Sequential()\n",
    "# 128 convolution filters used each of size 3x3\n",
    "model.add(Conv2D(128, kernel_size=(3, 3), activation='relu', input_shape=(size_x, size_y, 1)))\n",
    "model.add(Flatten())\n",
    "model.add(Dense(10, activation='softmax'))\n",
    "print(model.summary())"
   ]
  },
  {
   "cell_type": "markdown",
   "metadata": {
    "id": "fUHo8mPbFKPb"
   },
   "source": [
    "## Model compilation\n",
    "\n",
    "Before the model is ready for training, it needs a few more settings. These are added during the model's *compile* step:\n",
    "\n",
    "* *Loss function* - measures how accurate the model is during training, we want to minimize this with the optimizer.\n",
    "* *Optimizer* - how the model is updated based on the data it sees and its loss function.\n",
    "* *Metrics* - used to monitor the training and testing steps. \"accuracy\" is the fraction of images that are correctly classified.\n",
    "\n",
    "Those setting are relevant to improve the generalization on the test set and the learning time.\n",
    "See the [Keras documentation](https://keras.io/) to select the optimal setting."
   ]
  },
  {
   "cell_type": "code",
   "execution_count": 6,
   "metadata": {
    "id": "gPDJn26KFKPe"
   },
   "outputs": [],
   "source": [
    "model.compile(optimizer=tf.optimizers.SGD(), loss='sparse_categorical_crossentropy', metrics=['accuracy'])"
   ]
  },
  {
   "cell_type": "markdown",
   "metadata": {
    "id": "CzydQVk1FKPm"
   },
   "source": [
    "### Model training\n",
    "\n",
    "\n",
    "Being in a context of *supervised learning*, training the neural network model requires to call the `model.fit` method on the training data `train_images` and the relevant ground truth `train_labels`.\n",
    "\n",
    "To make predictions we use a test set `test_images` and check the predictions against the `test_labels` array. "
   ]
  },
  {
   "cell_type": "code",
   "execution_count": 7,
   "metadata": {
    "colab": {
     "base_uri": "https://localhost:8080/"
    },
    "id": "UuerNpGCFKPn",
    "outputId": "d2d487c8-e635-459f-fbe4-fc8933fb6601",
    "scrolled": true
   },
   "outputs": [
    {
     "name": "stdout",
     "output_type": "stream",
     "text": [
      "(60000, 28, 28, 1)\n",
      "Epoch 1/10\n",
      "1875/1875 [==============================] - 38s 3ms/step - loss: 0.8397 - accuracy: 0.7199 - val_loss: 0.5410 - val_accuracy: 0.8061\n",
      "Epoch 2/10\n",
      "1875/1875 [==============================] - 6s 3ms/step - loss: 0.4966 - accuracy: 0.8257 - val_loss: 0.4846 - val_accuracy: 0.8296\n",
      "Epoch 3/10\n",
      "1875/1875 [==============================] - 6s 3ms/step - loss: 0.4469 - accuracy: 0.8450 - val_loss: 0.4420 - val_accuracy: 0.8461\n",
      "Epoch 4/10\n",
      "1875/1875 [==============================] - 6s 3ms/step - loss: 0.4140 - accuracy: 0.8559 - val_loss: 0.4214 - val_accuracy: 0.8487\n",
      "Epoch 5/10\n",
      "1875/1875 [==============================] - 6s 3ms/step - loss: 0.3890 - accuracy: 0.8647 - val_loss: 0.3967 - val_accuracy: 0.8617\n",
      "Epoch 6/10\n",
      "1875/1875 [==============================] - 6s 3ms/step - loss: 0.3687 - accuracy: 0.8731 - val_loss: 0.3872 - val_accuracy: 0.8649\n",
      "Epoch 7/10\n",
      "1875/1875 [==============================] - 6s 3ms/step - loss: 0.3540 - accuracy: 0.8771 - val_loss: 0.3739 - val_accuracy: 0.8696\n",
      "Epoch 8/10\n",
      "1875/1875 [==============================] - 6s 3ms/step - loss: 0.3315 - accuracy: 0.8852 - val_loss: 0.3556 - val_accuracy: 0.8752\n",
      "Epoch 9/10\n",
      "1875/1875 [==============================] - 6s 3ms/step - loss: 0.3263 - accuracy: 0.8860 - val_loss: 0.3512 - val_accuracy: 0.8765\n",
      "Epoch 10/10\n",
      "1875/1875 [==============================] - 6s 3ms/step - loss: 0.3067 - accuracy: 0.8926 - val_loss: 0.3423 - val_accuracy: 0.8767\n",
      "\n",
      "Training time (seconds) 90.15228629112244\n"
     ]
    }
   ],
   "source": [
    "print(train_images.shape)\n",
    "t_before = time.time()    \n",
    "model.fit(train_images, train_labels, validation_data=(test_images, test_labels),epochs=10) \n",
    "t_after = time.time()\n",
    "t_training = t_after - t_before\n",
    "print()\n",
    "print(\"Training time (seconds)\", t_training)"
   ]
  },
  {
   "cell_type": "markdown",
   "metadata": {
    "id": "VXZTp2GA8cIS"
   },
   "source": [
    "## CNN Fashion Mnist - Challenge CI Strategos 2021/22\n",
    "\n",
    "Add your best result to the [shared table](https://docs.google.com/spreadsheets/d/1RwZDt9mmNH-eMusX6Yqukw1-v_oHSWSQDVlKqF-e97w/edit?usp=sharing)"
   ]
  },
  {
   "cell_type": "markdown",
   "metadata": {
    "id": "xV0fw3Lqhdw3"
   },
   "source": [
    "### Additional Discussion Here\n",
    "* ..."
   ]
  }
 ],
 "metadata": {
  "accelerator": "GPU",
  "colab": {
   "collapsed_sections": [],
   "name": "HW_CI_8_CNN Fashion.ipynb",
   "provenance": []
  },
  "kernelspec": {
   "display_name": "Python 3",
   "language": "python",
   "name": "python3"
  },
  "language_info": {
   "codemirror_mode": {
    "name": "ipython",
    "version": 3
   },
   "file_extension": ".py",
   "mimetype": "text/x-python",
   "name": "python",
   "nbconvert_exporter": "python",
   "pygments_lexer": "ipython3",
   "version": "3.8.10"
  }
 },
 "nbformat": 4,
 "nbformat_minor": 1
}
